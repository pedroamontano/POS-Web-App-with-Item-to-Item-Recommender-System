{
 "cells": [
  {
   "cell_type": "markdown",
   "id": "f7bcbf08",
   "metadata": {},
   "source": [
    "## LUSH Recommender (Content based) - Item to Item"
   ]
  },
  {
   "cell_type": "code",
   "execution_count": 1,
   "id": "e38b724f",
   "metadata": {},
   "outputs": [],
   "source": [
    "import numpy as np\n",
    "import pandas as pd\n",
    "from sklearn.feature_extraction.text import TfidfVectorizer\n",
    "from sklearn.metrics.pairwise import cosine_similarity"
   ]
  },
  {
   "cell_type": "code",
   "execution_count": 3,
   "id": "ae95bb44",
   "metadata": {},
   "outputs": [],
   "source": [
    "df_lush = pd.read_excel(r\"Data\\LushDataset.xlsx\")\n",
    "\n",
    "lush_ingredients = df_lush[['Name', 'Ingredients']]"
   ]
  },
  {
   "cell_type": "code",
   "execution_count": 4,
   "id": "28b87f86",
   "metadata": {},
   "outputs": [],
   "source": [
    "vectorizer = TfidfVectorizer(stop_words = \"english\", min_df=2)\n",
    "\n",
    "TF_IDF_matrix = vectorizer.fit_transform(lush_ingredients['Ingredients'])"
   ]
  },
  {
   "cell_type": "code",
   "execution_count": 5,
   "id": "42719808",
   "metadata": {},
   "outputs": [],
   "source": [
    "similarities = cosine_similarity(TF_IDF_matrix, dense_output=False)\n",
    "\n",
    "def content_recommender(name, lush_ingredients, similarities) :\n",
    "    \n",
    "    article_position = lush_ingredients[lush_ingredients['Name'] == name].index[0]\n",
    "    \n",
    "    sim_df = pd.DataFrame(\n",
    "        {'name': lush_ingredients['Name'], \n",
    "         'similarity': np.array(similarities[article_position, :].todense()).squeeze()\n",
    "        })\n",
    "\n",
    "    top_articles = sim_df.sort_values(by='similarity', ascending=False).head(4).tail(3)\n",
    "    \n",
    "    return top_articles"
   ]
  },
  {
   "cell_type": "code",
   "execution_count": 6,
   "id": "a4369f9d",
   "metadata": {},
   "outputs": [],
   "source": [
    "def magic(name):\n",
    "    if name not in df_lush['Name'].values:\n",
    "        print('not found')\n",
    "        return None\n",
    "    \n",
    "    similar_articles = content_recommender(name, lush_ingredients, similarities)\n",
    "    similar_articles_description = pd.merge(similar_articles, \n",
    "                                            df_lush, \n",
    "                                            left_on='name', \n",
    "                                            right_on='Name', \n",
    "                                            how='left')\n",
    "\n",
    "    similar_articles_description = similar_articles_description[['name', 'Type', 'similarity', 'Price']]\n",
    "    return similar_articles_description.sort_values(by='similarity', ascending=False)"
   ]
  },
  {
   "cell_type": "code",
   "execution_count": 7,
   "id": "bf1b25d9",
   "metadata": {},
   "outputs": [
    {
     "data": {
      "text/html": [
       "<div>\n",
       "<style scoped>\n",
       "    .dataframe tbody tr th:only-of-type {\n",
       "        vertical-align: middle;\n",
       "    }\n",
       "\n",
       "    .dataframe tbody tr th {\n",
       "        vertical-align: top;\n",
       "    }\n",
       "\n",
       "    .dataframe thead th {\n",
       "        text-align: right;\n",
       "    }\n",
       "</style>\n",
       "<table border=\"1\" class=\"dataframe\">\n",
       "  <thead>\n",
       "    <tr style=\"text-align: right;\">\n",
       "      <th></th>\n",
       "      <th>name</th>\n",
       "      <th>Type</th>\n",
       "      <th>similarity</th>\n",
       "      <th>Price</th>\n",
       "    </tr>\n",
       "  </thead>\n",
       "  <tbody>\n",
       "    <tr>\n",
       "      <th>0</th>\n",
       "      <td>Purity &amp; Clarity</td>\n",
       "      <td>Massage Bar</td>\n",
       "      <td>0.762592</td>\n",
       "      <td>13.0</td>\n",
       "    </tr>\n",
       "    <tr>\n",
       "      <th>1</th>\n",
       "      <td>Coco Loco</td>\n",
       "      <td>Naked Shower Oil</td>\n",
       "      <td>0.317748</td>\n",
       "      <td>10.5</td>\n",
       "    </tr>\n",
       "    <tr>\n",
       "      <th>2</th>\n",
       "      <td>Scrubee</td>\n",
       "      <td>Body Butter</td>\n",
       "      <td>0.316269</td>\n",
       "      <td>11.5</td>\n",
       "    </tr>\n",
       "  </tbody>\n",
       "</table>\n",
       "</div>"
      ],
      "text/plain": [
       "               name              Type  similarity  Price\n",
       "0  Purity & Clarity       Massage Bar    0.762592   13.0\n",
       "1         Coco Loco  Naked Shower Oil    0.317748   10.5\n",
       "2           Scrubee       Body Butter    0.316269   11.5"
      ]
     },
     "execution_count": 7,
     "metadata": {},
     "output_type": "execute_result"
    }
   ],
   "source": [
    "magic('Minamisoma')"
   ]
  }
 ],
 "metadata": {
  "kernelspec": {
   "display_name": "Python 3 (ipykernel)",
   "language": "python",
   "name": "python3"
  },
  "language_info": {
   "codemirror_mode": {
    "name": "ipython",
    "version": 3
   },
   "file_extension": ".py",
   "mimetype": "text/x-python",
   "name": "python",
   "nbconvert_exporter": "python",
   "pygments_lexer": "ipython3",
   "version": "3.11.3"
  }
 },
 "nbformat": 4,
 "nbformat_minor": 5
}
